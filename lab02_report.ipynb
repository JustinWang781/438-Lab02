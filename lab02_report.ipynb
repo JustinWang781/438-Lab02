{
  "cells": [
    {
      "cell_type": "markdown",
      "metadata": {
        "id": "Z1d7JhssB4RG"
      },
      "source": [
        "<h1><center>\n",
        "    ECE 438: Digital Signal Processing with Applications<br/>\n",
        "    Lab 2: Discrete-Time Systems<br/>\n",
        "    <small>Date:</small><br/>\n",
        "    <small>Section:<s/small><br>\n",
        "</center></h1>"
      ]
    },
    {
      "cell_type": "markdown",
      "metadata": {
        "id": "DyCNBbh4B4RI"
      },
      "source": [
        "|Name |Signature |Time spent outside lab|\n",
        "|:---:|:---:|:---:|\n",
        "|Student Name #1 [---%]| | |\n",
        "|Student Name #2 [---%]| | |"
      ]
    },
    {
      "cell_type": "markdown",
      "metadata": {
        "id": "hOZpF9XkB4RK"
      },
      "source": [
        "||Below expectations| Lacks in some respect|Meets all expectations|\n",
        "|:---:|:---:|:---:|:---:|\n",
        "|**Completeness of the report**||||\n",
        "|**Organization of the report**: *One-sided, with cover sheet, answers are in the same order as questions in the lab*||||\n",
        "|**Ability to process given signals (20 pts)**: *Import signal, plot signal, filter signal*||||\n",
        "|**Understanding and ability to implement difference equations (60 pts)**: *Draw system diagram, calculate impulse response, find inverse system answer ’discuss/explain’ questions*||||\n",
        "|**Ability to test for linearity and time-invariance of systems (20 pts)**: *Supporting plots with clear indication of the proof*||||"
      ]
    },
    {
      "cell_type": "code",
      "execution_count": null,
      "metadata": {
        "id": "gZea_edzB4RL"
      },
      "outputs": [],
      "source": [
        "import numpy as np\n",
        "import matplotlib.pyplot as plt\n",
        "import soundfile as sf\n",
        "import IPython.display as ipd"
      ]
    },
    {
      "cell_type": "code",
      "execution_count": null,
      "metadata": {
        "id": "h3Qiv55XB4RO"
      },
      "outputs": [],
      "source": [
        "# make sure the plot is displayed in this notebook\n",
        "%matplotlib inline\n",
        "# specify the size of the plot\n",
        "plt.rcParams['figure.figsize'] = (16, 6)\n",
        "\n",
        "# for auto-reloading extenrnal modules\n",
        "%load_ext autoreload\n",
        "%autoreload 2"
      ]
    },
    {
      "cell_type": "markdown",
      "metadata": {
        "id": "bLAMXswAB4RP"
      },
      "source": [
        "<h3 style=\"color:red;\"><left>Exercise 2</left></h3>"
      ]
    },
    {
      "cell_type": "markdown",
      "metadata": {
        "id": "bW5BXi4FB4RQ"
      },
      "source": [
        "**1. Draw the block diagram of the discrete-time differentiator as in Figure 1.**"
      ]
    },
    {
      "cell_type": "markdown",
      "metadata": {
        "id": "bQhz-lpkB4RR"
      },
      "source": [
        "![Untitled Diagram.drawio.png](data:image/png;base64,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)"
      ]
    },
    {
      "cell_type": "markdown",
      "metadata": {
        "id": "BEBzAe6IB4RS"
      },
      "source": [
        "**2. Apply the discrete-time differentiator to the signal $u[n]-u[n-(N+1)]$, with $N=10$, for $-10\\leq n\\leq20$, and plot the output. (This assumes a time step of $T=1$)**"
      ]
    },
    {
      "cell_type": "code",
      "execution_count": null,
      "metadata": {
        "id": "bQurzqDbB4RU"
      },
      "outputs": [],
      "source": [
        "# write your code here\n"
      ]
    },
    {
      "cell_type": "markdown",
      "metadata": {
        "id": "1dr3tHc-B4RV"
      },
      "source": [
        "**3. Draw the block diagram of the discrete-time integrator as in Figure 1.**"
      ]
    },
    {
      "cell_type": "markdown",
      "metadata": {
        "id": "y2QcDmqlB4RX"
      },
      "source": [
        "insert your diagram here"
      ]
    },
    {
      "cell_type": "markdown",
      "metadata": {
        "id": "sdHm9nUFB4RX"
      },
      "source": [
        "**4. Apply the discrete-time integrator to the signal $u[n]-u[n-(N+1)]$, with $N=10$, for $-10\\leq n\\leq20$, and plot the output. (This assumes a time step of $T=1$)**"
      ]
    },
    {
      "cell_type": "code",
      "execution_count": null,
      "metadata": {
        "id": "KYWGw-biB4RY"
      },
      "outputs": [],
      "source": [
        "# write your code here\n"
      ]
    },
    {
      "cell_type": "markdown",
      "metadata": {
        "id": "sn7Bnp7RB4RZ"
      },
      "source": [
        "**5. Use the discrete-time differentiator to numerically evaluate $\\frac{d}{dt}x(t)$ of $x(t)=\\sin(2\\pi t)$ for $t\\in[0,10]$, try $T=0.1$.**"
      ]
    },
    {
      "cell_type": "code",
      "execution_count": null,
      "metadata": {
        "id": "0gUNIst3B4RZ"
      },
      "outputs": [],
      "source": [
        "# write your code here\n"
      ]
    },
    {
      "cell_type": "markdown",
      "metadata": {
        "id": "LWB4yzmyB4RZ"
      },
      "source": [
        "**6. Use the discrete-time differentiator to numerically evaluate $\\frac{d}{dt}x(t)$ of $x(t)=\\sin(2\\pi t)$ for $t\\in[0,10]$, try $T=0.001$.**"
      ]
    },
    {
      "cell_type": "code",
      "execution_count": null,
      "metadata": {
        "id": "YCD16cnxB4Ra"
      },
      "outputs": [],
      "source": [
        "# write your code here\n"
      ]
    },
    {
      "cell_type": "markdown",
      "metadata": {
        "id": "5zTRTFmUB4Ra"
      },
      "source": [
        "**7. Compare the results in Q5 and Q6.**"
      ]
    },
    {
      "cell_type": "markdown",
      "metadata": {
        "id": "VYrUZRiJB4Rb"
      },
      "source": [
        "write your answer here"
      ]
    },
    {
      "cell_type": "markdown",
      "metadata": {
        "id": "IwpSy_cxB4Rb"
      },
      "source": [
        "<h3 style=\"color:red;\"><left>Exercise 3</left></h3>"
      ]
    },
    {
      "cell_type": "markdown",
      "metadata": {
        "id": "CKltgmRgB4Rb"
      },
      "source": [
        "**1. For each of these five systems, do the following:**\n",
        "\n",
        "* $S_1$\n",
        "* $S_2$\n",
        "* $S_1(S_2)$ (i.e., the series connection with $S_1$ following $S_2$)\n",
        "* $S_2(S_1)$ (i.e., the series connection with $S_2$ following $S_1$)\n",
        "* $S_1+S_2$\n",
        "\n",
        "**i. Draw the system diagram (use only delays, multiplications, and additions as in Figure 1)**"
      ]
    },
    {
      "cell_type": "markdown",
      "metadata": {
        "id": "n-uBD32fB4Rc"
      },
      "source": [
        "insert your diagrams here"
      ]
    },
    {
      "cell_type": "markdown",
      "metadata": {
        "id": "Oh2vfJt4B4Rc"
      },
      "source": [
        "**ii. Write code to implement each of these two filters ($S_1, S_2$) in the following functions using the following syntax**\n",
        "```python\n",
        "def S1(x):\n",
        "    \"\"\"\n",
        "    Parameters\n",
        "    ---\n",
        "    x: the discrete-time signal\n",
        "    \n",
        "    Returns:\n",
        "    ---\n",
        "    y: the filtered signal\n",
        "    \"\"\"\n",
        "    pass\n",
        "```\n",
        "\n",
        "and \n",
        "```python\n",
        "def S2(x):\n",
        "    \"\"\"\n",
        "    Parameters\n",
        "    ---\n",
        "    x: the discrete-time signal\n",
        "    \n",
        "    Returns:\n",
        "    ---\n",
        "    y: the filtered signal\n",
        "    \"\"\"\n",
        "    pass\n",
        "```"
      ]
    },
    {
      "cell_type": "code",
      "execution_count": null,
      "metadata": {
        "id": "xjTAiDSNB4Rd"
      },
      "outputs": [],
      "source": [
        "# write your code here\n"
      ]
    },
    {
      "cell_type": "markdown",
      "metadata": {
        "id": "jI7hm6vXB4Rd"
      },
      "source": [
        "**iii. Write code to calculate the impulse response of each of the five systems, and plot the impulse response of each of these five systems:**"
      ]
    },
    {
      "cell_type": "code",
      "execution_count": null,
      "metadata": {
        "id": "JNdpYtVsB4Re"
      },
      "outputs": [],
      "source": [
        "# write your code here\n"
      ]
    },
    {
      "cell_type": "markdown",
      "metadata": {
        "id": "ENoRfj0nB4Re"
      },
      "source": [
        "**2. Use the command ```audio, fs = sf.read(\"music.au\")``` to load the file ```music.au``` into Python. The first variable ```audio``` is the signal, and the second variable ```fs``` is the sampling rate.**"
      ]
    },
    {
      "cell_type": "code",
      "execution_count": null,
      "metadata": {
        "id": "7hc3a7ohB4Re"
      },
      "outputs": [],
      "source": [
        "# write your code here\n"
      ]
    },
    {
      "cell_type": "markdown",
      "metadata": {
        "id": "COzu1Qd3B4Rg"
      },
      "source": [
        "**3. Play the audio file using the command `ipd.Audio(audio, rate=fs)`.**"
      ]
    },
    {
      "cell_type": "code",
      "execution_count": null,
      "metadata": {
        "id": "QPRX8a_EB4Rg"
      },
      "outputs": [],
      "source": [
        "# write your code here\n"
      ]
    },
    {
      "cell_type": "markdown",
      "metadata": {
        "id": "Grim86RNB4Rh"
      },
      "source": [
        "**4. Next, filter the audio signal with each of the two systems $S_1$ and $S_2$ and listen to each of their outputs.**"
      ]
    },
    {
      "cell_type": "code",
      "execution_count": null,
      "metadata": {
        "id": "BQcfwySYB4Rh"
      },
      "outputs": [],
      "source": [
        "# write your code here\n"
      ]
    },
    {
      "cell_type": "markdown",
      "metadata": {
        "id": "VY37yL-LB4Ri"
      },
      "source": [
        "**5. How do the filters change the sound of the audio signals? Explain your observations.**"
      ]
    },
    {
      "cell_type": "markdown",
      "metadata": {
        "id": "7qk5a-_wB4Ri"
      },
      "source": [
        "write your answer here"
      ]
    },
    {
      "cell_type": "markdown",
      "metadata": {
        "id": "zncVi36fB4Rj"
      },
      "source": [
        "<h3 style=\"color:red;\"><left>Exercise 4</left></h3>"
      ]
    },
    {
      "cell_type": "markdown",
      "metadata": {
        "id": "-qG2TK2pB4Rj"
      },
      "source": [
        "**1. Consider the system $y=S_2[x]$ from Section 3. Find a difference equation for a new system $y=S_3[x]$ such that $\\delta=S_3[S_2[\\delta]]$ where $\\delta$ denotes the discrete-time impulse function $\\delta(n)$. Since both systems $S_2$ and $S_3$ are LTI, the time-invariance and superposition properties can be used to obtain $x=S_3[S_2[x]]$ for *any* discrete-time signal $x$. We say that the systems $S_3$ and $S_2$ are inverse filters because they cancel out the effects of each other.**"
      ]
    },
    {
      "cell_type": "markdown",
      "metadata": {
        "id": "2lkXxhYJB4Rk"
      },
      "source": [
        "**Hint:** The system $y=S_3[x]$ can be described by the difference equation\n",
        "\n",
        "\\begin{equation}\n",
        "    y[n]=ax[n]+bx[n-1]\n",
        "\\end{equation}\n",
        "\n",
        "where $a$ and $b$ are constants."
      ]
    },
    {
      "cell_type": "markdown",
      "metadata": {
        "id": "JiS-vCd1B4Rk"
      },
      "source": [
        "write your answer here"
      ]
    },
    {
      "cell_type": "markdown",
      "metadata": {
        "id": "osKL1-tKB4Rk"
      },
      "source": [
        "**2. Complete the Python function using the following syntax.**\n",
        "```python\n",
        "def S3(x):\n",
        "    \"\"\"\n",
        "    Parameters\n",
        "    ---\n",
        "    x: the discrete-time signal\n",
        "    \n",
        "    Returns:\n",
        "    ---\n",
        "    y: the filtered signal\n",
        "    \"\"\"\n",
        "    pass\n",
        "```"
      ]
    },
    {
      "cell_type": "code",
      "execution_count": null,
      "metadata": {
        "id": "e_dA7b9XB4Rl"
      },
      "outputs": [],
      "source": [
        "# write your code here\n"
      ]
    },
    {
      "cell_type": "markdown",
      "metadata": {
        "id": "Oa-YkKxyB4Rl"
      },
      "source": [
        "**3. Write code to plot the impulse response of both $S_3$ and $S_3[S_2[\\delta]]$ below.**"
      ]
    },
    {
      "cell_type": "code",
      "execution_count": null,
      "metadata": {
        "id": "DBctv-wDB4Rl"
      },
      "outputs": [],
      "source": [
        "# write your code here\n"
      ]
    },
    {
      "cell_type": "markdown",
      "metadata": {
        "id": "Xx4JnRwkB4Rm"
      },
      "source": [
        "<h3 style=\"color:red;\"><left>Exercise 5</left></h3>"
      ]
    },
    {
      "cell_type": "markdown",
      "metadata": {
        "id": "cwGSNIFCB4Rm"
      },
      "source": [
        "Often it is necessary to determine if a system is linear and/or time-invariant. If the inner workings of a system are not known, this task is impossible because the linearity and time-invariance properties must hold true for all possible input signals. However, it is possible to show that a system is non-linear or time-varying because only a single instance must be found where the properties are violated."
      ]
    },
    {
      "cell_type": "markdown",
      "metadata": {
        "id": "345BbfBIB4Rm"
      },
      "source": [
        "The code in the cell below is the synatx for the three imported black boxes, ```bbox1```, ```bbox2``` and ```bbox3```. All of them have the same syntax\n",
        "```python\n",
        "def bboxN(x):\n",
        "    return y\n",
        "```\n",
        "where ```x``` and ```y``` are the input and the output signals, and ```N=1,2,3```. **Exactly one of these systems is non-linear, and exactly one of them is time-varying.** Your task is to find the non-linear system and the time-varying system.\n",
        "\n",
        "**Hints:** \n",
        "* You should try a variety of input signals until you find a counter-example.\n",
        "* When testing for time-invariance, you need to look at the responses to a signal and to its delayed version. Since all your signals in Python have a finite duration, you should be very careful about shifting signals. In particular, if you want to shift a signal $x$ by $M$ samples to the left, $x$ should start with at least $M$ zeros. If you want to shift $x$ by $M$ samples to the right, $x$ should end with at least $M$ zeros.\n",
        "* When testing for linearity, you may find that simple inputs such as the unit impulse do not accomplish the task. In this case, you should try something more complicated like a sinusoid or a random signal generated with the ```x = np.random.rand(N)``` command, where ```N``` here is the length of the signal."
      ]
    },
    {
      "cell_type": "markdown",
      "metadata": {
        "id": "veSHA2u1B4Rm"
      },
      "source": [
        "**1. Import the three bbboxes from the file ```bboxes.py```.**"
      ]
    },
    {
      "cell_type": "code",
      "execution_count": null,
      "metadata": {
        "id": "lisLZ8hXB4Rm"
      },
      "outputs": [],
      "source": [
        "# write your code here\n"
      ]
    },
    {
      "cell_type": "markdown",
      "metadata": {
        "id": "JgBfy_KFB4Rn"
      },
      "source": [
        "**2. Write code to plot input/output signal pairs that support your conclusions. Create multiple code cells if necessary.**"
      ]
    },
    {
      "cell_type": "code",
      "execution_count": null,
      "metadata": {
        "id": "Y-sGlgShB4Ro"
      },
      "outputs": [],
      "source": [
        "# write your code here\n"
      ]
    },
    {
      "cell_type": "markdown",
      "metadata": {
        "id": "xGCBMEu9B4Ro"
      },
      "source": [
        "**2. State which system is non-linear and which system is time-varying.**\n"
      ]
    },
    {
      "cell_type": "markdown",
      "metadata": {
        "id": "CZMOXxaqB4Rp"
      },
      "source": [
        "write your answer here"
      ]
    },
    {
      "cell_type": "markdown",
      "metadata": {
        "id": "Z7J1Qvf9B4Rp"
      },
      "source": [
        "**3. Explain how the plots support your conclusion.**"
      ]
    },
    {
      "cell_type": "markdown",
      "metadata": {
        "id": "nUp3VEnwB4Rp"
      },
      "source": [
        "write your answer here"
      ]
    },
    {
      "cell_type": "markdown",
      "metadata": {
        "id": "jITbM653B4Rq"
      },
      "source": [
        "<h3 style=\"color:red;\"><left>Exercise 6.1</left></h3>"
      ]
    },
    {
      "cell_type": "markdown",
      "metadata": {
        "id": "snQssMtIB4Rq"
      },
      "source": [
        "**For each of these three methods:**\n",
        "\n",
        "**1. write a difference equation**"
      ]
    },
    {
      "cell_type": "markdown",
      "metadata": {
        "id": "8Avv3HbCB4Rq"
      },
      "source": [
        "write your answer here"
      ]
    },
    {
      "cell_type": "markdown",
      "metadata": {
        "id": "vXyosnWvB4Rr"
      },
      "source": [
        "**2. Draw a system diagram**"
      ]
    },
    {
      "cell_type": "markdown",
      "metadata": {
        "id": "ypDFLZ17B4Rr"
      },
      "source": [
        "insert your diagram here"
      ]
    },
    {
      "cell_type": "markdown",
      "metadata": {
        "id": "9WbyKx0DB4Rr"
      },
      "source": [
        "**3. Calculate the impulse response**"
      ]
    },
    {
      "cell_type": "markdown",
      "metadata": {
        "id": "h7_Y3-6HB4Rr"
      },
      "source": [
        "write your answer here"
      ]
    },
    {
      "cell_type": "markdown",
      "metadata": {
        "id": "fvM_elvwB4Rr"
      },
      "source": [
        "**4. Explain why methods (5) and (7) are known as moving average.**"
      ]
    },
    {
      "cell_type": "markdown",
      "metadata": {
        "id": "OzZyDCO4B4Rr"
      },
      "source": [
        "write your answer here"
      ]
    },
    {
      "cell_type": "markdown",
      "metadata": {
        "id": "i-qtoKoqB4Rr"
      },
      "source": [
        "<h3 style=\"color:red;\"><left>Exercise 6.2</left></h3>"
      ]
    },
    {
      "cell_type": "markdown",
      "metadata": {
        "id": "oJnIK9koB4Rs"
      },
      "source": [
        "Load the file ```stockrates.npy``` into Python. This file contains a vector of daily stock market exchange rates for a publicly-traded stock.\n",
        "\n",
        "Apply filters (6) and (7) to smooth the stock values. When you apply filter (6), you will need to initialize the value of *averagevalue(yesterday)*. Use an initial value of $0$. Similarly, in filter (7), set the initial values of the *value* vector to $0$ (for the days prior to the start of data collection)."
      ]
    },
    {
      "cell_type": "markdown",
      "metadata": {
        "id": "eGvQBUYQB4Rs"
      },
      "source": [
        "**Note: You will need the following code to load data that is stored in a `.npy` file.**"
      ]
    },
    {
      "cell_type": "code",
      "execution_count": null,
      "metadata": {
        "id": "geAL5FesB4Rs"
      },
      "outputs": [],
      "source": [
        "rate = np.load(\"stockrates.npy\")"
      ]
    },
    {
      "cell_type": "markdown",
      "metadata": {
        "id": "QjFI75JMB4Rt"
      },
      "source": [
        "**1. Plot the original stock values.**"
      ]
    },
    {
      "cell_type": "code",
      "execution_count": null,
      "metadata": {
        "id": "3w9hujhnB4Rt"
      },
      "outputs": [],
      "source": [
        "# write your code here\n"
      ]
    },
    {
      "cell_type": "markdown",
      "metadata": {
        "id": "wiRJYxGnB4Rt"
      },
      "source": [
        "**2. Plot the result of filtering with (6).**"
      ]
    },
    {
      "cell_type": "code",
      "execution_count": null,
      "metadata": {
        "id": "OYAQ4gtvB4Rt"
      },
      "outputs": [],
      "source": [
        "# write your code here\n"
      ]
    },
    {
      "cell_type": "markdown",
      "metadata": {
        "id": "jmGdmFv5B4Ru"
      },
      "source": [
        "**3. Plot the result of filtering with (7).**"
      ]
    },
    {
      "cell_type": "code",
      "execution_count": null,
      "metadata": {
        "id": "RE6_RUa8B4Ru"
      },
      "outputs": [],
      "source": [
        "# write your code here\n"
      ]
    },
    {
      "cell_type": "markdown",
      "metadata": {
        "id": "wfFj4kztB4Ru"
      },
      "source": [
        "**4. Discuss the advantages and disadvantages of the two filters (6) and (7). Can you suggest a better method for initializing the filter outputs?**."
      ]
    },
    {
      "cell_type": "markdown",
      "metadata": {
        "id": "BRDm6OuCB4Rw"
      },
      "source": [
        "write your answer here"
      ]
    }
  ],
  "metadata": {
    "kernelspec": {
      "display_name": "Python 3 (ipykernel)",
      "language": "python",
      "name": "python3"
    },
    "language_info": {
      "codemirror_mode": {
        "name": "ipython",
        "version": 3
      },
      "file_extension": ".py",
      "mimetype": "text/x-python",
      "name": "python",
      "nbconvert_exporter": "python",
      "pygments_lexer": "ipython3",
      "version": "3.8.1"
    },
    "colab": {
      "provenance": []
    }
  },
  "nbformat": 4,
  "nbformat_minor": 0
}